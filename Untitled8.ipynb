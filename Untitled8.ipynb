{
  "nbformat": 4,
  "nbformat_minor": 0,
  "metadata": {
    "colab": {
      "provenance": [],
      "authorship_tag": "ABX9TyO6CJXS2JUSSFiMTLZzVqCY",
      "include_colab_link": true
    },
    "kernelspec": {
      "name": "python3",
      "display_name": "Python 3"
    },
    "language_info": {
      "name": "python"
    }
  },
  "cells": [
    {
      "cell_type": "markdown",
      "metadata": {
        "id": "view-in-github",
        "colab_type": "text"
      },
      "source": [
        "<a href=\"https://colab.research.google.com/github/SPOORTHJ/Bus-Reservation-System/blob/main/Untitled8.ipynb\" target=\"_parent\"><img src=\"https://colab.research.google.com/assets/colab-badge.svg\" alt=\"Open In Colab\"/></a>"
      ]
    },
    {
      "cell_type": "code",
      "execution_count": null,
      "metadata": {
        "id": "l1MwNs0ZsRMb"
      },
      "outputs": [],
      "source": []
    },
    {
      "cell_type": "code",
      "source": [
        "!pip install faiss-cpu"
      ],
      "metadata": {
        "colab": {
          "base_uri": "https://localhost:8080/"
        },
        "id": "y1t2_hPksURw",
        "outputId": "b6fc0c62-4da7-49e5-b5b7-0362ce4aeb4e"
      },
      "execution_count": null,
      "outputs": [
        {
          "output_type": "stream",
          "name": "stdout",
          "text": [
            "Collecting faiss-cpu\n",
            "  Downloading faiss_cpu-1.8.0.post1-cp310-cp310-manylinux_2_17_x86_64.manylinux2014_x86_64.whl (27.0 MB)\n",
            "\u001b[2K     \u001b[90m━━━━━━━━━━━━━━━━━━━━━━━━━━━━━━━━━━━━━━━━\u001b[0m \u001b[32m27.0/27.0 MB\u001b[0m \u001b[31m19.7 MB/s\u001b[0m eta \u001b[36m0:00:00\u001b[0m\n",
            "\u001b[?25hRequirement already satisfied: numpy<2.0,>=1.0 in /usr/local/lib/python3.10/dist-packages (from faiss-cpu) (1.25.2)\n",
            "Requirement already satisfied: packaging in /usr/local/lib/python3.10/dist-packages (from faiss-cpu) (24.1)\n",
            "Installing collected packages: faiss-cpu\n",
            "Successfully installed faiss-cpu-1.8.0.post1\n"
          ]
        }
      ]
    },
    {
      "cell_type": "code",
      "source": [
        "import faiss\n",
        "import numpy as np\n",
        "import time\n",
        "from statistics import mean"
      ],
      "metadata": {
        "id": "WGVPhindsXGW"
      },
      "execution_count": null,
      "outputs": []
    },
    {
      "cell_type": "markdown",
      "source": [
        "# @title Default title text\n",
        "#Calculation L2 distance with FAISS"
      ],
      "metadata": {
        "id": "aUCssVOvs1IC"
      }
    },
    {
      "cell_type": "code",
      "source": [
        "# Build an index\n",
        "lengths = [10, 100, 1000, 10000, 100000, 500000]\n",
        "\n",
        "db_time_faiss = []\n",
        "search_time_faiss = []\n",
        "for len in lengths:\n",
        "  data = np.random.rand(len, 512).astype('float32')\n",
        "  start_time = time.time()\n",
        "  index = faiss.IndexFlatL2(512) # L2 distance index\n",
        "  index.add(data)\n",
        "  end_time = time.time() - start_time\n",
        "  db_time_faiss.append(end_time)\n",
        "  print('Create Database Time(FAISS): ', end_time)\n",
        "  query_vector = np.random.rand(1, 512).astype('float32')\n",
        "  k = index.ntotal\n",
        "  start_time = time.time()\n",
        "  distances, indices = index.search(query_vector, k)\n",
        "  end_time = time.time() - start_time\n",
        "  search_time_faiss.append(end_time)\n",
        "  print('Time Of Search(FAISS)', end_time)"
      ],
      "metadata": {
        "colab": {
          "base_uri": "https://localhost:8080/"
        },
        "id": "E-rxS4uZsX0X",
        "outputId": "cf06d1f0-d157-40e8-d383-eb0174c8843b"
      },
      "execution_count": null,
      "outputs": [
        {
          "output_type": "stream",
          "name": "stdout",
          "text": [
            "Create Database Time(FAISS):  0.00016641616821289062\n",
            "Time Of Search(FAISS) 6.818771362304688e-05\n",
            "Create Database Time(FAISS):  0.00010013580322265625\n",
            "Time Of Search(FAISS) 0.00011587142944335938\n",
            "Create Database Time(FAISS):  0.0017011165618896484\n",
            "Time Of Search(FAISS) 0.0015692710876464844\n",
            "Create Database Time(FAISS):  0.024602890014648438\n",
            "Time Of Search(FAISS) 0.004614353179931641\n",
            "Create Database Time(FAISS):  0.19378900527954102\n",
            "Time Of Search(FAISS) 0.05243086814880371\n",
            "Create Database Time(FAISS):  1.1227591037750244\n",
            "Time Of Search(FAISS) 0.404827356338501\n"
          ]
        }
      ]
    },
    {
      "cell_type": "code",
      "source": [
        "print('Avg Create Time DB(FAISS) :', mean(db_time_faiss))\n",
        "print('Avg Search Time (FAISS) :', mean(search_time_faiss))"
      ],
      "metadata": {
        "colab": {
          "base_uri": "https://localhost:8080/"
        },
        "id": "oU_rc7Ncs7_E",
        "outputId": "e455d70a-5383-4c1e-ddb4-9b612e96b059"
      },
      "execution_count": null,
      "outputs": [
        {
          "output_type": "stream",
          "name": "stdout",
          "text": [
            "Avg Create Time DB(FAISS) : 0.22385311126708984\n",
            "Avg Search Time (FAISS) : 0.0772709846496582\n"
          ]
        }
      ]
    },
    {
      "cell_type": "code",
      "source": [
        "#Calculation L2 distance with numpy"
      ],
      "metadata": {
        "id": "HH4HBXKStA6p"
      },
      "execution_count": null,
      "outputs": []
    },
    {
      "cell_type": "code",
      "source": [
        "array1 = np.random.rand(1, 512)\n",
        "search_time_np = []\n",
        "for len in lengths:\n",
        "  data = np.random.rand(len, 512)\n",
        "  start_time = time.time()\n",
        "  # Calculate the L2 distance\n",
        "  l2_distance = np.linalg.norm(array1 - data, axis=1)\n",
        "  end_time = time.time() - start_time\n",
        "  search_time_np.append(end_time)\n",
        "  print('Time Of Search(numpy)', end_time)"
      ],
      "metadata": {
        "colab": {
          "base_uri": "https://localhost:8080/"
        },
        "id": "3WWbRw5ZtFO9",
        "outputId": "08d38f2f-569a-4c64-f3c9-4b5d1b1a5e9e"
      },
      "execution_count": null,
      "outputs": [
        {
          "output_type": "stream",
          "name": "stdout",
          "text": [
            "Time Of Search(numpy) 0.0008893013000488281\n",
            "Time Of Search(numpy) 0.0004723072052001953\n",
            "Time Of Search(numpy) 0.0037267208099365234\n",
            "Time Of Search(numpy) 0.05336737632751465\n",
            "Time Of Search(numpy) 0.5150783061981201\n",
            "Time Of Search(numpy) 3.100034713745117\n"
          ]
        }
      ]
    },
    {
      "cell_type": "code",
      "source": [
        "!pip install -Uq chromadb"
      ],
      "metadata": {
        "colab": {
          "base_uri": "https://localhost:8080/"
        },
        "id": "QGDT4BCjtTcW",
        "outputId": "ba2e64cf-11c0-4ccf-9039-29bbfafdcba9"
      },
      "execution_count": null,
      "outputs": [
        {
          "output_type": "stream",
          "name": "stdout",
          "text": [
            "\u001b[2K     \u001b[90m━━━━━━━━━━━━━━━━━━━━━━━━━━━━━━━━━━━━━━━━\u001b[0m \u001b[32m581.4/581.4 kB\u001b[0m \u001b[31m6.7 MB/s\u001b[0m eta \u001b[36m0:00:00\u001b[0m\n",
            "\u001b[2K     \u001b[90m━━━━━━━━━━━━━━━━━━━━━━━━━━━━━━━━━━━━━━━━\u001b[0m \u001b[32m2.4/2.4 MB\u001b[0m \u001b[31m14.4 MB/s\u001b[0m eta \u001b[36m0:00:00\u001b[0m\n",
            "\u001b[2K     \u001b[90m━━━━━━━━━━━━━━━━━━━━━━━━━━━━━━━━━━━━━━━━\u001b[0m \u001b[32m92.2/92.2 kB\u001b[0m \u001b[31m8.2 MB/s\u001b[0m eta \u001b[36m0:00:00\u001b[0m\n",
            "\u001b[2K     \u001b[90m━━━━━━━━━━━━━━━━━━━━━━━━━━━━━━━━━━━━━━━━\u001b[0m \u001b[32m62.8/62.8 kB\u001b[0m \u001b[31m5.5 MB/s\u001b[0m eta \u001b[36m0:00:00\u001b[0m\n",
            "\u001b[2K     \u001b[90m━━━━━━━━━━━━━━━━━━━━━━━━━━━━━━━━━━━━━━━━\u001b[0m \u001b[32m41.3/41.3 kB\u001b[0m \u001b[31m3.6 MB/s\u001b[0m eta \u001b[36m0:00:00\u001b[0m\n",
            "\u001b[2K     \u001b[90m━━━━━━━━━━━━━━━━━━━━━━━━━━━━━━━━━━━━━━━━\u001b[0m \u001b[32m6.8/6.8 MB\u001b[0m \u001b[31m31.7 MB/s\u001b[0m eta \u001b[36m0:00:00\u001b[0m\n",
            "\u001b[2K     \u001b[90m━━━━━━━━━━━━━━━━━━━━━━━━━━━━━━━━━━━━━━━━\u001b[0m \u001b[32m59.9/59.9 kB\u001b[0m \u001b[31m6.0 MB/s\u001b[0m eta \u001b[36m0:00:00\u001b[0m\n",
            "\u001b[2K     \u001b[90m━━━━━━━━━━━━━━━━━━━━━━━━━━━━━━━━━━━━━━━━\u001b[0m \u001b[32m107.0/107.0 kB\u001b[0m \u001b[31m10.5 MB/s\u001b[0m eta \u001b[36m0:00:00\u001b[0m\n",
            "\u001b[2K     \u001b[90m━━━━━━━━━━━━━━━━━━━━━━━━━━━━━━━━━━━━━━━━\u001b[0m \u001b[32m67.3/67.3 kB\u001b[0m \u001b[31m4.8 MB/s\u001b[0m eta \u001b[36m0:00:00\u001b[0m\n",
            "\u001b[?25h  Installing build dependencies ... \u001b[?25l\u001b[?25hdone\n",
            "  Getting requirements to build wheel ... \u001b[?25l\u001b[?25hdone\n",
            "  Preparing metadata (pyproject.toml) ... \u001b[?25l\u001b[?25hdone\n",
            "\u001b[2K     \u001b[90m━━━━━━━━━━━━━━━━━━━━━━━━━━━━━━━━━━━━━━━━\u001b[0m \u001b[32m283.7/283.7 kB\u001b[0m \u001b[31m23.7 MB/s\u001b[0m eta \u001b[36m0:00:00\u001b[0m\n",
            "\u001b[2K     \u001b[90m━━━━━━━━━━━━━━━━━━━━━━━━━━━━━━━━━━━━━━━━\u001b[0m \u001b[32m1.7/1.7 MB\u001b[0m \u001b[31m39.4 MB/s\u001b[0m eta \u001b[36m0:00:00\u001b[0m\n",
            "\u001b[2K     \u001b[90m━━━━━━━━━━━━━━━━━━━━━━━━━━━━━━━━━━━━━━━━\u001b[0m \u001b[32m67.6/67.6 kB\u001b[0m \u001b[31m5.6 MB/s\u001b[0m eta \u001b[36m0:00:00\u001b[0m\n",
            "\u001b[2K     \u001b[90m━━━━━━━━━━━━━━━━━━━━━━━━━━━━━━━━━━━━━━━━\u001b[0m \u001b[32m141.1/141.1 kB\u001b[0m \u001b[31m13.1 MB/s\u001b[0m eta \u001b[36m0:00:00\u001b[0m\n",
            "\u001b[2K     \u001b[90m━━━━━━━━━━━━━━━━━━━━━━━━━━━━━━━━━━━━━━━━\u001b[0m \u001b[32m75.6/75.6 kB\u001b[0m \u001b[31m6.6 MB/s\u001b[0m eta \u001b[36m0:00:00\u001b[0m\n",
            "\u001b[2K     \u001b[90m━━━━━━━━━━━━━━━━━━━━━━━━━━━━━━━━━━━━━━━━\u001b[0m \u001b[32m71.9/71.9 kB\u001b[0m \u001b[31m7.2 MB/s\u001b[0m eta \u001b[36m0:00:00\u001b[0m\n",
            "\u001b[2K     \u001b[90m━━━━━━━━━━━━━━━━━━━━━━━━━━━━━━━━━━━━━━━━\u001b[0m \u001b[32m77.9/77.9 kB\u001b[0m \u001b[31m7.4 MB/s\u001b[0m eta \u001b[36m0:00:00\u001b[0m\n",
            "\u001b[2K     \u001b[90m━━━━━━━━━━━━━━━━━━━━━━━━━━━━━━━━━━━━━━━━\u001b[0m \u001b[32m58.3/58.3 kB\u001b[0m \u001b[31m5.8 MB/s\u001b[0m eta \u001b[36m0:00:00\u001b[0m\n",
            "\u001b[2K     \u001b[90m━━━━━━━━━━━━━━━━━━━━━━━━━━━━━━━━━━━━━━━━\u001b[0m \u001b[32m46.0/46.0 kB\u001b[0m \u001b[31m4.9 MB/s\u001b[0m eta \u001b[36m0:00:00\u001b[0m\n",
            "\u001b[2K     \u001b[90m━━━━━━━━━━━━━━━━━━━━━━━━━━━━━━━━━━━━━━━━\u001b[0m \u001b[32m52.5/52.5 kB\u001b[0m \u001b[31m5.7 MB/s\u001b[0m eta \u001b[36m0:00:00\u001b[0m\n",
            "\u001b[2K     \u001b[90m━━━━━━━━━━━━━━━━━━━━━━━━━━━━━━━━━━━━━━━━\u001b[0m \u001b[32m130.5/130.5 kB\u001b[0m \u001b[31m13.1 MB/s\u001b[0m eta \u001b[36m0:00:00\u001b[0m\n",
            "\u001b[2K     \u001b[90m━━━━━━━━━━━━━━━━━━━━━━━━━━━━━━━━━━━━━━━━\u001b[0m \u001b[32m341.4/341.4 kB\u001b[0m \u001b[31m26.9 MB/s\u001b[0m eta \u001b[36m0:00:00\u001b[0m\n",
            "\u001b[2K     \u001b[90m━━━━━━━━━━━━━━━━━━━━━━━━━━━━━━━━━━━━━━━━\u001b[0m \u001b[32m3.4/3.4 MB\u001b[0m \u001b[31m37.3 MB/s\u001b[0m eta \u001b[36m0:00:00\u001b[0m\n",
            "\u001b[2K     \u001b[90m━━━━━━━━━━━━━━━━━━━━━━━━━━━━━━━━━━━━━━━━\u001b[0m \u001b[32m1.2/1.2 MB\u001b[0m \u001b[31m49.5 MB/s\u001b[0m eta \u001b[36m0:00:00\u001b[0m\n",
            "\u001b[2K     \u001b[90m━━━━━━━━━━━━━━━━━━━━━━━━━━━━━━━━━━━━━━━━\u001b[0m \u001b[32m130.2/130.2 kB\u001b[0m \u001b[31m1.5 MB/s\u001b[0m eta \u001b[36m0:00:00\u001b[0m\n",
            "\u001b[2K     \u001b[90m━━━━━━━━━━━━━━━━━━━━━━━━━━━━━━━━━━━━━━━━\u001b[0m \u001b[32m307.7/307.7 kB\u001b[0m \u001b[31m27.0 MB/s\u001b[0m eta \u001b[36m0:00:00\u001b[0m\n",
            "\u001b[2K     \u001b[90m━━━━━━━━━━━━━━━━━━━━━━━━━━━━━━━━━━━━━━━━\u001b[0m \u001b[32m86.8/86.8 kB\u001b[0m \u001b[31m5.2 MB/s\u001b[0m eta \u001b[36m0:00:00\u001b[0m\n",
            "\u001b[?25h  Building wheel for pypika (pyproject.toml) ... \u001b[?25l\u001b[?25hdone\n"
          ]
        }
      ]
    },
    {
      "cell_type": "code",
      "source": [
        "import random\n",
        "import string\n",
        "lengths = [10, 100, 1000, 10000]\n",
        "array1 = np.random.rand(512)\n",
        "def generate_random_string(length):\n",
        "    characters = string.ascii_letters + string.digits\n",
        "    random_string = ''.join(random.choice(characters) for i in range(length))\n",
        "    return random_string"
      ],
      "metadata": {
        "id": "AjK_dDaItkCV"
      },
      "execution_count": null,
      "outputs": []
    },
    {
      "cell_type": "code",
      "source": [
        "import chromadb\n",
        "client = chromadb.Client()\n",
        "collection = client.create_collection(\"test2\")\n",
        "db_time_chroma = []\n",
        "search_time_chroma = []\n",
        "for len in lengths:\n",
        "  data = np.random.rand(len, 512).astype('float32')\n",
        "  idz = [generate_random_string(16) for i in range(len)]\n",
        "  strt = time.time()\n",
        "  collection.add(\n",
        "      ids=idz,\n",
        "      embeddings=data,\n",
        "  )\n",
        "  end = time.time() - strt\n",
        "  db_time_chroma.append(end)\n",
        "  print('Create Database Time(): ', end)\n",
        "  strt = time.time()\n",
        "  results = collection.query(array1.reshape((1, 512)),\n",
        "      n_results=100)\n",
        "  end = time.time() - strt\n",
        "  search_time_chroma.append(end)\n",
        "  print('Search Time (ChromaDB) :', end)"
      ],
      "metadata": {
        "colab": {
          "base_uri": "https://localhost:8080/"
        },
        "id": "UkOTsR7ktmqO",
        "outputId": "184ef58d-8ea2-4e78-b0b2-cd4565c2cbab"
      },
      "execution_count": null,
      "outputs": [
        {
          "output_type": "stream",
          "name": "stderr",
          "text": [
            "WARNING:chromadb.segment.impl.vector.local_hnsw:Number of requested results 100 is greater than number of elements in index 10, updating n_results = 10\n"
          ]
        },
        {
          "output_type": "stream",
          "name": "stdout",
          "text": [
            "Create Database Time():  0.0391690731048584\n",
            "Search Time (ChromaDB) : 0.0075724124908447266\n",
            "Create Database Time():  0.1003563404083252\n",
            "Search Time (ChromaDB) : 0.004067659378051758\n",
            "Create Database Time():  1.0075035095214844\n",
            "Search Time (ChromaDB) : 0.004930257797241211\n",
            "Create Database Time():  22.164748430252075\n",
            "Search Time (ChromaDB) : 0.007824897766113281\n"
          ]
        }
      ]
    },
    {
      "cell_type": "code",
      "source": [
        "print(db_time_chroma)\n",
        "print(search_time_chroma)"
      ],
      "metadata": {
        "colab": {
          "base_uri": "https://localhost:8080/"
        },
        "id": "xkrEJN17trP-",
        "outputId": "dfb092dd-98fc-4c3d-98fe-9cfce2118335"
      },
      "execution_count": null,
      "outputs": [
        {
          "output_type": "stream",
          "name": "stdout",
          "text": [
            "[0.0391690731048584, 0.1003563404083252, 1.0075035095214844, 22.164748430252075]\n",
            "[0.0075724124908447266, 0.004067659378051758, 0.004930257797241211, 0.007824897766113281]\n"
          ]
        }
      ]
    },
    {
      "cell_type": "code",
      "source": [
        "from tqdm import tqdm\n",
        "collection = client.create_collection(\"test0\")\n",
        "strt = time.time()\n",
        "for len in tqdm(range(5)):\n",
        "  data = np.random.rand(20000, 512).astype('float32')\n",
        "  idz = [generate_random_string(16) for i in range(20000)]\n",
        "  collection.add(\n",
        "      ids=idz,\n",
        "      embeddings=data,\n",
        "  )\n",
        "end = time.time() - strt\n",
        "db_time_chroma.append(end)\n",
        "print('Create Database Time(): ', end)\n",
        "\n",
        "strt = time.time()\n",
        "results = collection.query(array1.reshape((1, 512)),\n",
        "    n_results=100)\n",
        "end = time.time() - strt\n",
        "search_time_chroma.append(end)\n",
        "print('Search Time (ChromaDB) :', end)"
      ],
      "metadata": {
        "colab": {
          "base_uri": "https://localhost:8080/"
        },
        "id": "Ip_k6tDwtyuy",
        "outputId": "c3bbf355-84a0-4aed-9b4e-471b10de8382"
      },
      "execution_count": null,
      "outputs": [
        {
          "output_type": "stream",
          "name": "stderr",
          "text": [
            "100%|██████████| 5/5 [05:40<00:00, 68.05s/it]"
          ]
        },
        {
          "output_type": "stream",
          "name": "stdout",
          "text": [
            "Create Database Time():  340.2628347873688\n",
            "Search Time (ChromaDB) : 0.008129596710205078\n"
          ]
        },
        {
          "output_type": "stream",
          "name": "stderr",
          "text": [
            "\n"
          ]
        }
      ]
    },
    {
      "cell_type": "code",
      "source": [
        "search_time_chroma"
      ],
      "metadata": {
        "colab": {
          "base_uri": "https://localhost:8080/"
        },
        "id": "Z4VnxK4lt3oI",
        "outputId": "836b4153-9051-433f-fe38-d53e1e87eb12"
      },
      "execution_count": null,
      "outputs": [
        {
          "output_type": "execute_result",
          "data": {
            "text/plain": [
              "[0.0075724124908447266,\n",
              " 0.004067659378051758,\n",
              " 0.004930257797241211,\n",
              " 0.007824897766113281,\n",
              " 0.008129596710205078]"
            ]
          },
          "metadata": {},
          "execution_count": 11
        }
      ]
    },
    {
      "cell_type": "code",
      "source": [
        "collection = client.create_collection(\"test7\")\n",
        "strt = time.time()\n",
        "for len in tqdm(range(20)):\n",
        "  data = np.random.rand(25000, 512).astype('float32')\n",
        "  idz = [generate_random_string(16) for i in range(25000)]\n",
        "  collection.add(\n",
        "      ids=idz,\n",
        "      embeddings=data,\n",
        "  )\n",
        "end = time.time() - strt\n",
        "db_time_chroma.append(end)\n",
        "print('Create Database Time(): ', end)\n",
        "\n",
        "strt = time.time()\n",
        "results = collection.query(array1.reshape((1, 512)),\n",
        "    n_results=100)\n",
        "end = time.time() - strt\n",
        "search_time_chroma.append(end)\n",
        "print('Search Time (ChromaDB) :', end)"
      ],
      "metadata": {
        "colab": {
          "base_uri": "https://localhost:8080/"
        },
        "id": "YAr4Dtcct9hg",
        "outputId": "61070b34-9201-4747-a94f-3a9cbc0174db"
      },
      "execution_count": null,
      "outputs": [
        {
          "output_type": "stream",
          "name": "stderr",
          "text": [
            "100%|██████████| 20/20 [30:20<00:00, 91.04s/it] "
          ]
        },
        {
          "output_type": "stream",
          "name": "stdout",
          "text": [
            "Create Database Time():  1820.731653213501\n",
            "Search Time (ChromaDB) : 0.01901865005493164\n"
          ]
        },
        {
          "output_type": "stream",
          "name": "stderr",
          "text": [
            "\n"
          ]
        }
      ]
    },
    {
      "cell_type": "code",
      "source": [
        "search_time_faiss"
      ],
      "metadata": {
        "colab": {
          "base_uri": "https://localhost:8080/"
        },
        "id": "luBAYKUguC_u",
        "outputId": "324adab4-385c-48e9-b8fe-222b591fca8a"
      },
      "execution_count": null,
      "outputs": [
        {
          "output_type": "execute_result",
          "data": {
            "text/plain": [
              "[6.818771362304688e-05,\n",
              " 0.00011587142944335938,\n",
              " 0.0015692710876464844,\n",
              " 0.004614353179931641,\n",
              " 0.05243086814880371,\n",
              " 0.404827356338501]"
            ]
          },
          "metadata": {},
          "execution_count": 13
        }
      ]
    },
    {
      "cell_type": "code",
      "source": [
        "import matplotlib.pyplot as plt\n",
        "lengths = [10, 100, 1000, 10000, 100000, 500000]\n",
        "plt.figure(figsize=(10, 5))\n",
        "plt.plot(lengths, search_time_faiss, label='FAISS')\n",
        "plt.plot(lengths, search_time_np, label='Numpy')\n",
        "plt.plot(lengths, search_time_chroma, label='ChromaDB')\n",
        "plt.legend()\n",
        "plt.title('Search Time')\n",
        "plt.xlabel('DB Size')\n",
        "plt.ylabel('Time(s)')"
      ],
      "metadata": {
        "colab": {
          "base_uri": "https://localhost:8080/",
          "height": 504
        },
        "id": "BFn8U2WsuEgQ",
        "outputId": "360301da-3d75-4278-d743-1d2dbcca144b"
      },
      "execution_count": null,
      "outputs": [
        {
          "output_type": "execute_result",
          "data": {
            "text/plain": [
              "Text(0, 0.5, 'Time(s)')"
            ]
          },
          "metadata": {},
          "execution_count": 14
        },
        {
          "output_type": "display_data",
          "data": {
            "text/plain": [
              "<Figure size 1000x500 with 1 Axes>"
            ],
            "image/png": "[encoded data removed]"
          },
          "metadata": {}
        }
      ]
    },
    {
      "cell_type": "code",
      "source": [
        "import matplotlib.pyplot as plt\n",
        "plt.figure(figsize=(10, 5))\n",
        "plt.plot(lengths, db_time_faiss, label='FAISS')\n",
        "\n",
        "plt.plot(lengths, db_time_chroma, label='ChromaDB')\n",
        "plt.legend()\n",
        "plt.title('Create DB Time')\n",
        "plt.xlabel('DB Size')\n",
        "plt.ylabel('Time(s)')"
      ],
      "metadata": {
        "colab": {
          "base_uri": "https://localhost:8080/",
          "height": 504
        },
        "id": "AHDbwJNSuQRc",
        "outputId": "6fe9bc7c-b68b-4353-cc32-477f7de3e890"
      },
      "execution_count": null,
      "outputs": [
        {
          "output_type": "execute_result",
          "data": {
            "text/plain": [
              "Text(0, 0.5, 'Time(s)')"
            ]
          },
          "metadata": {},
          "execution_count": 19
        },
        {
          "output_type": "display_data",
          "data": {
            "text/plain": [
              "<Figure size 1000x500 with 1 Axes>"
            ],
            "image/png": "[encoded data removed]"
          },
          "metadata": {}
        }
      ]
    }
  ]
}